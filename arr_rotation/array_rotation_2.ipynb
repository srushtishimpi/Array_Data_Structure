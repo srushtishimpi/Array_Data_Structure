{
 "cells": [
  {
   "cell_type": "markdown",
   "metadata": {},
   "source": [
    "# Array Rotation Program 2: Reversal algorithm for Array rotation"
   ]
  },
  {
   "cell_type": "markdown",
   "metadata": {},
   "source": [
    "### By Srushti Shimpi"
   ]
  },
  {
   "cell_type": "markdown",
   "metadata": {},
   "source": [
    "Given an array of integers **ar[]** of size **n** and an integer **d**, the task is to rotate the array elements to the left by **d** positions."
   ]
  },
  {
   "cell_type": "markdown",
   "metadata": {},
   "source": [
    "## Program Approach: Using temp array and reverse operation"
   ]
  },
  {
   "cell_type": "code",
   "execution_count": 2,
   "metadata": {},
   "outputs": [],
   "source": [
    "# Defining a rotate function with 3 parameters: ar, d and n\n",
    "def rotate(ar, d, n):\n",
    "    \n",
    "    #step1: First store the elements from index d to N-1 into the temp array temp1.\n",
    "    temp1 = ar[ar.index(d)+1:] \n",
    "    # Reversing temp1\n",
    "    r_temp1 = temp1[::-1]\n",
    "    #step2: Then store the first d elements of the original array into the temp array temp2.\n",
    "    temp2 = ar[0:ar.index(d)+1]\n",
    "    #reversing temp2\n",
    "    r_temp2 = temp2[::-1]\n",
    "\n",
    "    #step3: Copy back the elements of the reverse of reversed temp arrays into the original array ar.\n",
    "    ar = r_temp1[::-1] + r_temp2[::-1]\n",
    "    return ar\n"
   ]
  },
  {
   "cell_type": "code",
   "execution_count": 3,
   "metadata": {},
   "outputs": [
    {
     "name": "stdout",
     "output_type": "stream",
     "text": [
      "\n",
      "Enter the elements of the array:58 1 3 5 9 44 8 70 55 33 334\n",
      "\n",
      "Length of an Array ar, n = 11\n",
      "\n",
      "Enter the interger less than or equal to the length of a given array: 3\n"
     ]
    }
   ],
   "source": [
    "#Getting input ar, d\n",
    "ar = list(map(int, input(\"\\nEnter the elements of the array:\").strip().split()))\n",
    "n = len(ar)\n",
    "print(\"\\nLength of an Array ar, n =\", n)\n",
    "d = int(input(\"\\nEnter the interger less than or equal to the length of a given array: \"))"
   ]
  },
  {
   "cell_type": "code",
   "execution_count": 4,
   "metadata": {},
   "outputs": [
    {
     "name": "stdout",
     "output_type": "stream",
     "text": [
      "\n",
      "Array ar =  [58, 1, 3, 5, 9, 44, 8, 70, 55, 33, 334]\n",
      "\n",
      "Rotate the elements of array to left by 3 places.\n"
     ]
    }
   ],
   "source": [
    "# While loop for d>n to avoid error\n",
    "while(d>n):\n",
    "    print(\"\\nSorry! Here length of array is smaller than d. Therefor, its an error.Try again.\")\n",
    "    d = int(input(\"\\nEnter the interger less than or equal to the length of a given array: \"))\n",
    "    \n",
    "\n",
    "print(\"\\nArray ar = \", ar)\n",
    "print(\"\\nRotate the elements of array to left by\", d, \"places.\")"
   ]
  },
  {
   "cell_type": "code",
   "execution_count": 5,
   "metadata": {},
   "outputs": [
    {
     "name": "stdout",
     "output_type": "stream",
     "text": [
      "\n",
      "Array ar rotated to left by 3 positions: [5, 9, 44, 8, 70, 55, 33, 334, 58, 1, 3]\n"
     ]
    }
   ],
   "source": [
    "#Printing rotated array\n",
    "r = rotate(ar, d, n)\n",
    "print(\"\\nArray ar rotated to left by\", d,\"positions:\", r)"
   ]
  },
  {
   "cell_type": "markdown",
   "metadata": {},
   "source": [
    "### Time and Space Complexity"
   ]
  },
  {
   "cell_type": "markdown",
   "metadata": {},
   "source": [
    "- Time Complexity: O(n)\n",
    "- Space Complexity: O(1)"
   ]
  }
 ],
 "metadata": {
  "kernelspec": {
   "display_name": "Python 3",
   "language": "python",
   "name": "python3"
  },
  "language_info": {
   "codemirror_mode": {
    "name": "ipython",
    "version": 3
   },
   "file_extension": ".py",
   "mimetype": "text/x-python",
   "name": "python",
   "nbconvert_exporter": "python",
   "pygments_lexer": "ipython3",
   "version": "3.7.3"
  }
 },
 "nbformat": 4,
 "nbformat_minor": 2
}
