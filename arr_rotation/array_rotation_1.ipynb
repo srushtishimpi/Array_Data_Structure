{
 "cells": [
  {
   "cell_type": "markdown",
   "metadata": {},
   "source": [
    "# Array Rotation Program: 1"
   ]
  },
  {
   "cell_type": "markdown",
   "metadata": {},
   "source": [
    "### By Srushti Shimpi"
   ]
  },
  {
   "cell_type": "markdown",
   "metadata": {},
   "source": [
    "Given an array of integers **ar[]** of size **n** and an integer **d**, the task is to rotate the array elements to the left by **d** positions."
   ]
  },
  {
   "cell_type": "markdown",
   "metadata": {},
   "source": [
    "## Program Approach: Using temp array"
   ]
  },
  {
   "cell_type": "code",
   "execution_count": 32,
   "metadata": {},
   "outputs": [],
   "source": [
    "# Defining a rotate function with 3 parameters: ar, d and n\n",
    "def rotate(ar, d, n):\n",
    "    \n",
    "    #step1: First store the elements from index d to N-1 into the temp array temp1.\n",
    "    temp1 = ar[ar.index(d)+1:] \n",
    "    \n",
    "    #step2: Then store the first d elements of the original array into the temp array temp2.\n",
    "    temp2 = ar[0:ar.index(d)+1]\n",
    "    \n",
    "    #step3: Copy back the elements of the temp arrays into the original array ar.\n",
    "    ar = temp1 + temp2\n",
    "    return ar\n"
   ]
  },
  {
   "cell_type": "code",
   "execution_count": 33,
   "metadata": {},
   "outputs": [
    {
     "name": "stdout",
     "output_type": "stream",
     "text": [
      "\n",
      "Enter the elements of the array:1 2 3 4 5 80 4 6 11 2 8\n",
      "\n",
      "Length of an Array ar, n = 11\n",
      "\n",
      "Enter the interger less than or equal to the length of a given array: 4\n"
     ]
    }
   ],
   "source": [
    "#Getting input ar, d\n",
    "ar = list(map(int, input(\"\\nEnter the elements of the array:\").strip().split()))\n",
    "n = len(ar)\n",
    "print(\"\\nLength of an Array ar, n =\", n)\n",
    "d = int(input(\"\\nEnter the interger less than or equal to the length of a given array: \"))"
   ]
  },
  {
   "cell_type": "code",
   "execution_count": 34,
   "metadata": {},
   "outputs": [
    {
     "name": "stdout",
     "output_type": "stream",
     "text": [
      "\n",
      "Array ar =  [1, 2, 3, 4, 5, 80, 4, 6, 11, 2, 8]\n",
      "\n",
      "Rotate the elements of array to left by 4 places.\n"
     ]
    }
   ],
   "source": [
    "# While loop for d>n to avoid error\n",
    "while(d>n):\n",
    "    print(\"\\nSorry! Here length of array is smaller than d. Therefor, its an error.Try again.\")\n",
    "    d = int(input(\"\\nEnter the interger less than or equal to the length of a given array: \"))\n",
    "    \n",
    "\n",
    "print(\"\\nArray ar = \", ar)\n",
    "print(\"\\nRotate the elements of array to left by\", d, \"places.\")"
   ]
  },
  {
   "cell_type": "code",
   "execution_count": 35,
   "metadata": {},
   "outputs": [
    {
     "name": "stdout",
     "output_type": "stream",
     "text": [
      "\n",
      "Array ar rotated to left by 4 positions: [5, 80, 4, 6, 11, 2, 8, 1, 2, 3, 4]\n"
     ]
    }
   ],
   "source": [
    "\n",
    "#Printing rotated array\n",
    "r = rotate(ar, d, n)\n",
    "print(\"\\nArray ar rotated to left by\", d,\"positions:\", r)"
   ]
  },
  {
   "cell_type": "markdown",
   "metadata": {},
   "source": [
    "### Time and Space Complexity"
   ]
  },
  {
   "cell_type": "markdown",
   "metadata": {},
   "source": [
    "- Time Complexity: **O(n)**\n",
    "- Space Complexity: **O(n)**"
   ]
  }
 ],
 "metadata": {
  "kernelspec": {
   "display_name": "Python 3",
   "language": "python",
   "name": "python3"
  },
  "language_info": {
   "codemirror_mode": {
    "name": "ipython",
    "version": 3
   },
   "file_extension": ".py",
   "mimetype": "text/x-python",
   "name": "python",
   "nbconvert_exporter": "python",
   "pygments_lexer": "ipython3",
   "version": "3.7.3"
  }
 },
 "nbformat": 4,
 "nbformat_minor": 2
}
