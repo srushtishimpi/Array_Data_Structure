{
 "cells": [
  {
   "cell_type": "markdown",
   "metadata": {},
   "source": [
    "Array_DS1"
   ]
  },
  {
   "cell_type": "markdown",
   "metadata": {},
   "source": [
    "# Introduction to Array in Python\n",
    "### Author: Srushti Shimpi"
   ]
  },
  {
   "cell_type": "markdown",
   "metadata": {},
   "source": [
    "<b> Understanding array using different functions in Array library in Python. <b>"
   ]
  },
  {
   "cell_type": "markdown",
   "metadata": {},
   "source": [
    "Importing \"array\" for array operations"
   ]
  },
  {
   "cell_type": "code",
   "execution_count": 197,
   "metadata": {},
   "outputs": [],
   "source": [
    "import array"
   ]
  },
  {
   "cell_type": "markdown",
   "metadata": {},
   "source": [
    "## Python code to demonstrate the working of array()"
   ]
  },
  {
   "cell_type": "markdown",
   "metadata": {},
   "source": [
    "**array(data type, value list):** This function is used to create an array with data type and value list specified in its arguments.<p>"
   ]
  },
  {
   "cell_type": "markdown",
   "metadata": {},
   "source": [
    "Initializing array with array values and array with signed integers"
   ]
  },
  {
   "cell_type": "code",
   "execution_count": 198,
   "metadata": {},
   "outputs": [
    {
     "name": "stdout",
     "output_type": "stream",
     "text": [
      "Array =  array('i', [1, 2, 3, 4, 6, 7, 9, 11])\n"
     ]
    }
   ],
   "source": [
    "arr = array.array('i', [1, 2, 3, 4, 6, 7, 9, 11])\n",
    "\n",
    "print(\"Array = \" , end=\" \")\n",
    "print( arr )"
   ]
  },
  {
   "cell_type": "markdown",
   "metadata": {},
   "source": [
    "## Printing original array"
   ]
  },
  {
   "cell_type": "code",
   "execution_count": 199,
   "metadata": {},
   "outputs": [
    {
     "name": "stdout",
     "output_type": "stream",
     "text": [
      "The new created array is :  1 2 3 4 6 7 9 11 "
     ]
    }
   ],
   "source": [
    "print (\"The new created array is : \",end=\" \")\n",
    "for i in range (0, 8):\n",
    "\tprint (arr[i], end=\" \")"
   ]
  },
  {
   "cell_type": "markdown",
   "metadata": {},
   "source": [
    "## Using append() to insert new value at end\n",
    "\n",
    "**append():** This function is used to add the value mentioned in its arguments at the end of the array."
   ]
  },
  {
   "cell_type": "code",
   "execution_count": 200,
   "metadata": {},
   "outputs": [],
   "source": [
    "arr.append(3);"
   ]
  },
  {
   "cell_type": "code",
   "execution_count": 201,
   "metadata": {},
   "outputs": [
    {
     "name": "stdout",
     "output_type": "stream",
     "text": [
      "The appended array is : 1 2 3 4 6 7 9 11 3 "
     ]
    }
   ],
   "source": [
    "# printing appended array\n",
    "print(\"The appended array is : \", end=\"\")\n",
    "for i in range (0, 9):\n",
    "\tprint (arr[i], end=\" \")"
   ]
  },
  {
   "cell_type": "markdown",
   "metadata": {},
   "source": [
    "## Using insert() to insert value at specific position\n",
    "\n",
    "**insert(i,x) :** This function is used to add the **value(x)** at the ith position specified in its argument."
   ]
  },
  {
   "cell_type": "code",
   "execution_count": 202,
   "metadata": {},
   "outputs": [],
   "source": [
    "arr.insert(4, 2)"
   ]
  },
  {
   "cell_type": "code",
   "execution_count": 203,
   "metadata": {},
   "outputs": [
    {
     "name": "stdout",
     "output_type": "stream",
     "text": [
      "The array after insertion is : 1 2 3 4 2 6 7 9 11 3 "
     ]
    }
   ],
   "source": [
    "# printing array after insertion\n",
    "print (\"The array after insertion is : \", end=\"\")\n",
    "for i in range (0, 10):\n",
    "\tprint (arr[i], end=\" \")"
   ]
  },
  {
   "cell_type": "markdown",
   "metadata": {},
   "source": [
    "## Using pop() to delete value at specific position\n",
    "\n",
    "**pop():** This function removes the element at the position mentioned in its argument and returns it."
   ]
  },
  {
   "cell_type": "code",
   "execution_count": 204,
   "metadata": {},
   "outputs": [
    {
     "name": "stdout",
     "output_type": "stream",
     "text": [
      "The popped element is : 11\n"
     ]
    }
   ],
   "source": [
    "print (\"The popped element is : \",end=\"\")\n",
    "print (arr.pop(8));"
   ]
  },
  {
   "cell_type": "code",
   "execution_count": 205,
   "metadata": {},
   "outputs": [
    {
     "name": "stdout",
     "output_type": "stream",
     "text": [
      "The array after popping is : 1 2 3 4 2 6 7 9 3 "
     ]
    }
   ],
   "source": [
    "# printing array after removing popped value\n",
    "print (\"The array after popping is : \",end=\"\")\n",
    "for i in range (0,9):\n",
    "    print (arr[i],end=\" \")"
   ]
  },
  {
   "cell_type": "markdown",
   "metadata": {},
   "source": [
    "## Using remove() to removing the 1st occurance of repeated value\n",
    "**remove():** This function is used to remove the first occurrence of the value mentioned in its arguments."
   ]
  },
  {
   "cell_type": "code",
   "execution_count": 206,
   "metadata": {},
   "outputs": [],
   "source": [
    "arr.remove(2)"
   ]
  },
  {
   "cell_type": "code",
   "execution_count": 207,
   "metadata": {},
   "outputs": [
    {
     "name": "stdout",
     "output_type": "stream",
     "text": [
      "The array after removing is : 1 3 4 2 6 7 9 3 "
     ]
    }
   ],
   "source": [
    "# printing array after removing 1st occurance of repeated value\n",
    "print (\"The array after removing is : \",end=\"\")\n",
    "for i in range (0,8):\n",
    "    print (arr[i],end=\" \")"
   ]
  },
  {
   "cell_type": "markdown",
   "metadata": {},
   "source": [
    "## Using index() to print index of 1st occurrence of repeated values\n",
    "**index():** This function returns the index of the first occurrence of the value mentioned in the arguments."
   ]
  },
  {
   "cell_type": "code",
   "execution_count": 208,
   "metadata": {},
   "outputs": [
    {
     "name": "stdout",
     "output_type": "stream",
     "text": [
      "The index of 1st occurrence of 3 is : 1\n"
     ]
    }
   ],
   "source": [
    "print (\"The index of 1st occurrence of 3 is : \",end=\"\")\n",
    "print (arr.index(3))"
   ]
  },
  {
   "cell_type": "markdown",
   "metadata": {},
   "source": [
    "## Using reverse() to reverse the array\n",
    "**reverse():** This function reverses the array."
   ]
  },
  {
   "cell_type": "code",
   "execution_count": 209,
   "metadata": {},
   "outputs": [],
   "source": [
    "arr.reverse()"
   ]
  },
  {
   "cell_type": "code",
   "execution_count": 210,
   "metadata": {},
   "outputs": [
    {
     "name": "stdout",
     "output_type": "stream",
     "text": [
      "The array after reversing is : 3 9 7 6 2 4 3 1 "
     ]
    }
   ],
   "source": [
    "# printing array after reversing\n",
    "print (\"The array after reversing is : \",end=\"\")\n",
    "for i in range (0,8):\n",
    "    print (arr[i],end=\" \")"
   ]
  },
  {
   "cell_type": "markdown",
   "metadata": {},
   "source": [
    "## Using typecode to print datatype of array\n",
    "**typecode:** This function returns the data type"
   ]
  },
  {
   "cell_type": "code",
   "execution_count": 211,
   "metadata": {},
   "outputs": [
    {
     "name": "stdout",
     "output_type": "stream",
     "text": [
      "The datatype of array is : i\n"
     ]
    }
   ],
   "source": [
    "print (\"The datatype of array is : \" + (arr.typecode))"
   ]
  },
  {
   "cell_type": "markdown",
   "metadata": {},
   "source": [
    "## Using itemsize to print itemsize of array\n",
    "**itemsize:** This function returns size in bytes of a single array element."
   ]
  },
  {
   "cell_type": "code",
   "execution_count": 212,
   "metadata": {},
   "outputs": [
    {
     "name": "stdout",
     "output_type": "stream",
     "text": [
      "The itemsize of array is :  4\n"
     ]
    }
   ],
   "source": [
    "print (\"The itemsize of array is : \", end=\" \")\n",
    "print (arr.itemsize)"
   ]
  },
  {
   "cell_type": "markdown",
   "metadata": {},
   "source": [
    "## Using buffer_info() to print buffer info. of array\n",
    "**buffer_info():** Returns a tuple representing the address in which array is stored and number of elements in it."
   ]
  },
  {
   "cell_type": "code",
   "execution_count": 213,
   "metadata": {},
   "outputs": [
    {
     "name": "stdout",
     "output_type": "stream",
     "text": [
      "The buffer info. of array is :  (2106180462960, 8)\n"
     ]
    }
   ],
   "source": [
    "print (\"The buffer info. of array is : \", end=\" \")\n",
    "print (arr.buffer_info())"
   ]
  },
  {
   "cell_type": "markdown",
   "metadata": {},
   "source": [
    "## Initializing array 2 with array values"
   ]
  },
  {
   "cell_type": "code",
   "execution_count": 214,
   "metadata": {},
   "outputs": [
    {
     "name": "stdout",
     "output_type": "stream",
     "text": [
      "Array2 =  array('i', [12, 13, 14])\n"
     ]
    }
   ],
   "source": [
    "# initializes array with signed integers\n",
    "arr2 = array.array('i',[12, 13, 14]) \n",
    "print(\"Array2 = \" , end=\" \")\n",
    "print( arr2 )"
   ]
  },
  {
   "cell_type": "markdown",
   "metadata": {},
   "source": [
    "## Using count() to count occurrences of 3 in array\n",
    "**count():** This function counts the number of occurrences of argument mentioned in array."
   ]
  },
  {
   "cell_type": "code",
   "execution_count": 215,
   "metadata": {},
   "outputs": [
    {
     "name": "stdout",
     "output_type": "stream",
     "text": [
      "The occurrences of 3 in array is :  2\n"
     ]
    }
   ],
   "source": [
    "print (\"The occurrences of 3 in array is : \", end=\" \")\n",
    "print (arr.count(3))"
   ]
  },
  {
   "cell_type": "markdown",
   "metadata": {},
   "source": [
    "## Using extend() to add array 2 elements to array 1 \n",
    "**extend(arr):** This function appends a whole array mentioned in its arguments to the specified array."
   ]
  },
  {
   "cell_type": "code",
   "execution_count": 216,
   "metadata": {},
   "outputs": [
    {
     "name": "stdout",
     "output_type": "stream",
     "text": [
      "The modified array is :  3 9 7 6 2 4 3 1 12 13 14 "
     ]
    }
   ],
   "source": [
    "arr.extend(arr2)\n",
    "  \n",
    "print (\"The modified array is : \", end=\" \")\n",
    "for i in range (0,11):\n",
    "    print (arr[i], end= \" \")"
   ]
  },
  {
   "cell_type": "markdown",
   "metadata": {},
   "source": [
    "## Initializing list"
   ]
  },
  {
   "cell_type": "code",
   "execution_count": 217,
   "metadata": {},
   "outputs": [],
   "source": [
    "li = [15, 16, 17]"
   ]
  },
  {
   "cell_type": "markdown",
   "metadata": {},
   "source": [
    "## Using fromlist() to append list at end of array\n",
    "**fromlist(list):** This function is used to append a list mentioned in its argument to end of array."
   ]
  },
  {
   "cell_type": "code",
   "execution_count": 218,
   "metadata": {},
   "outputs": [],
   "source": [
    "arr.fromlist(li)"
   ]
  },
  {
   "cell_type": "code",
   "execution_count": 219,
   "metadata": {},
   "outputs": [
    {
     "name": "stdout",
     "output_type": "stream",
     "text": [
      "The modified array is : 3 9 7 6 2 4 3 1 12 13 14 "
     ]
    }
   ],
   "source": [
    "# printing the modified array\n",
    "print (\"The modified array is : \",end=\"\")\n",
    "for i in range (0,11):\n",
    "    print (arr[i],end=\" \")"
   ]
  },
  {
   "cell_type": "markdown",
   "metadata": {},
   "source": [
    "## Using tolist() to convert array into new list\n",
    "**tolist():** This function is used to transform an array into a list."
   ]
  },
  {
   "cell_type": "code",
   "execution_count": 220,
   "metadata": {},
   "outputs": [],
   "source": [
    "li2 = arr.tolist()"
   ]
  },
  {
   "cell_type": "code",
   "execution_count": 221,
   "metadata": {},
   "outputs": [
    {
     "name": "stdout",
     "output_type": "stream",
     "text": [
      "New List : 3 9 7 6 2 4 3 1 12 13 14 15 16 17 "
     ]
    }
   ],
   "source": [
    "# printing the new list\n",
    "print (\"New List : \",end=\"\")\n",
    "for i in range (0,len(li2)):\n",
    "    print (li2[i],end=\" \")"
   ]
  },
  {
   "cell_type": "markdown",
   "metadata": {},
   "source": [
    "# The End"
   ]
  }
 ],
 "metadata": {
  "kernelspec": {
   "display_name": "Python 3",
   "language": "python",
   "name": "python3"
  },
  "language_info": {
   "codemirror_mode": {
    "name": "ipython",
    "version": 3
   },
   "file_extension": ".py",
   "mimetype": "text/x-python",
   "name": "python",
   "nbconvert_exporter": "python",
   "pygments_lexer": "ipython3",
   "version": "3.7.3"
  }
 },
 "nbformat": 4,
 "nbformat_minor": 2
}
